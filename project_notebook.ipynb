{
 "cells": [
  {
   "cell_type": "markdown",
   "metadata": {},
   "source": [
    "# Using Machine Learning to Predict Animal Outcomes At the Austin Animal Shelter\n",
    "As a part of Austin's **Open Data Initative**, the Austin Animal Shelter releases the data they collect on animal intakes and outcomes, using these data sheets we hope to predict animals outcomes with a reasonable degree of accuracy."
   ]
  },
  {
   "cell_type": "code",
   "execution_count": 1,
   "metadata": {},
   "outputs": [],
   "source": [
    "# module imports\n",
    "import pandas\n",
    "import pandas as pd\n",
    "import seaborn as sns\n",
    "import numpy as np\n",
    "import matplotlib.pyplot as plt\n",
    "\n",
    "%matplotlib inline\n",
    "\n",
    "from sklearn.ensemble import RandomForestClassifier\n",
    "from sklearn.model_selection import train_test_split\n",
    "from sklearn.metrics import mean_absolute_error"
   ]
  },
  {
   "cell_type": "code",
   "execution_count": 2,
   "metadata": {},
   "outputs": [
    {
     "name": "stdout",
     "output_type": "stream",
     "text": [
      "total 53948\r\n",
      "-rw-r--r-- 1 randall randall 31441583 Sep 29 09:11 aac_intakes_outcomes.csv\r\n",
      "-rw-r--r-- 1 randall randall  8801200 Nov 25 12:53 aac_shelter_cat_outcome_eng.csv\r\n",
      "-rw-r--r-- 1 randall randall 10933886 Nov 25 12:53 aac_shelter_outcomes_modified.csv\r\n",
      "-rw-r--r-- 1 randall randall  3548207 Nov 25 12:53 aac_shelter_outcomes.ods\r\n",
      "-rw-r--r-- 1 randall randall    24948 Dec  3 12:49 notebook.ipynb\r\n",
      "-rw-r--r-- 1 randall randall   105007 Dec  5 15:28 Team13_Project_Presentation.odp\r\n",
      "-rw-r--r-- 1 randall randall   342036 Dec  5 15:30 Team13_Project_Presentation.pdf\r\n",
      "-rw-r--r-- 1 randall randall    27444 Dec  5 23:02 Untitled.ipynb\r\n"
     ]
    }
   ],
   "source": [
    "ls -l"
   ]
  },
  {
   "cell_type": "markdown",
   "metadata": {},
   "source": [
    "Ooh, **aac_intakes_outcomes.csv** looks interesting, let's explore"
   ]
  },
  {
   "cell_type": "code",
   "execution_count": 3,
   "metadata": {},
   "outputs": [
    {
     "name": "stdout",
     "output_type": "stream",
     "text": [
      "Shape: (79672, 41)\n"
     ]
    },
    {
     "data": {
      "text/html": [
       "<div>\n",
       "<style scoped>\n",
       "    .dataframe tbody tr th:only-of-type {\n",
       "        vertical-align: middle;\n",
       "    }\n",
       "\n",
       "    .dataframe tbody tr th {\n",
       "        vertical-align: top;\n",
       "    }\n",
       "\n",
       "    .dataframe thead th {\n",
       "        text-align: right;\n",
       "    }\n",
       "</style>\n",
       "<table border=\"1\" class=\"dataframe\">\n",
       "  <thead>\n",
       "    <tr style=\"text-align: right;\">\n",
       "      <th></th>\n",
       "      <th>age_upon_outcome</th>\n",
       "      <th>animal_id_outcome</th>\n",
       "      <th>date_of_birth</th>\n",
       "      <th>outcome_subtype</th>\n",
       "      <th>outcome_type</th>\n",
       "      <th>sex_upon_outcome</th>\n",
       "      <th>age_upon_outcome_(days)</th>\n",
       "      <th>age_upon_outcome_(years)</th>\n",
       "      <th>age_upon_outcome_age_group</th>\n",
       "      <th>outcome_datetime</th>\n",
       "      <th>...</th>\n",
       "      <th>age_upon_intake_age_group</th>\n",
       "      <th>intake_datetime</th>\n",
       "      <th>intake_month</th>\n",
       "      <th>intake_year</th>\n",
       "      <th>intake_monthyear</th>\n",
       "      <th>intake_weekday</th>\n",
       "      <th>intake_hour</th>\n",
       "      <th>intake_number</th>\n",
       "      <th>time_in_shelter</th>\n",
       "      <th>time_in_shelter_days</th>\n",
       "    </tr>\n",
       "  </thead>\n",
       "  <tbody>\n",
       "    <tr>\n",
       "      <th>0</th>\n",
       "      <td>10 years</td>\n",
       "      <td>A006100</td>\n",
       "      <td>2007-07-09 00:00:00</td>\n",
       "      <td>NaN</td>\n",
       "      <td>Return to Owner</td>\n",
       "      <td>Neutered Male</td>\n",
       "      <td>3650</td>\n",
       "      <td>10.0</td>\n",
       "      <td>(7.5, 10.0]</td>\n",
       "      <td>2017-12-07 14:07:00</td>\n",
       "      <td>...</td>\n",
       "      <td>(7.5, 10.0]</td>\n",
       "      <td>2017-12-07 00:00:00</td>\n",
       "      <td>12</td>\n",
       "      <td>2017</td>\n",
       "      <td>2017-12</td>\n",
       "      <td>Thursday</td>\n",
       "      <td>14</td>\n",
       "      <td>1.0</td>\n",
       "      <td>0 days 14:07:00.000000000</td>\n",
       "      <td>0.588194</td>\n",
       "    </tr>\n",
       "    <tr>\n",
       "      <th>1</th>\n",
       "      <td>7 years</td>\n",
       "      <td>A006100</td>\n",
       "      <td>2007-07-09 00:00:00</td>\n",
       "      <td>NaN</td>\n",
       "      <td>Return to Owner</td>\n",
       "      <td>Neutered Male</td>\n",
       "      <td>2555</td>\n",
       "      <td>7.0</td>\n",
       "      <td>(5.0, 7.5]</td>\n",
       "      <td>2014-12-20 16:35:00</td>\n",
       "      <td>...</td>\n",
       "      <td>(5.0, 7.5]</td>\n",
       "      <td>2014-12-19 10:21:00</td>\n",
       "      <td>12</td>\n",
       "      <td>2014</td>\n",
       "      <td>2014-12</td>\n",
       "      <td>Friday</td>\n",
       "      <td>10</td>\n",
       "      <td>2.0</td>\n",
       "      <td>1 days 06:14:00.000000000</td>\n",
       "      <td>1.259722</td>\n",
       "    </tr>\n",
       "    <tr>\n",
       "      <th>2</th>\n",
       "      <td>6 years</td>\n",
       "      <td>A006100</td>\n",
       "      <td>2007-07-09 00:00:00</td>\n",
       "      <td>NaN</td>\n",
       "      <td>Return to Owner</td>\n",
       "      <td>Neutered Male</td>\n",
       "      <td>2190</td>\n",
       "      <td>6.0</td>\n",
       "      <td>(5.0, 7.5]</td>\n",
       "      <td>2014-03-08 17:10:00</td>\n",
       "      <td>...</td>\n",
       "      <td>(5.0, 7.5]</td>\n",
       "      <td>2014-03-07 14:26:00</td>\n",
       "      <td>3</td>\n",
       "      <td>2014</td>\n",
       "      <td>2014-03</td>\n",
       "      <td>Friday</td>\n",
       "      <td>14</td>\n",
       "      <td>3.0</td>\n",
       "      <td>1 days 02:44:00.000000000</td>\n",
       "      <td>1.113889</td>\n",
       "    </tr>\n",
       "    <tr>\n",
       "      <th>3</th>\n",
       "      <td>10 years</td>\n",
       "      <td>A047759</td>\n",
       "      <td>2004-04-02 00:00:00</td>\n",
       "      <td>Partner</td>\n",
       "      <td>Transfer</td>\n",
       "      <td>Neutered Male</td>\n",
       "      <td>3650</td>\n",
       "      <td>10.0</td>\n",
       "      <td>(7.5, 10.0]</td>\n",
       "      <td>2014-04-07 15:12:00</td>\n",
       "      <td>...</td>\n",
       "      <td>(7.5, 10.0]</td>\n",
       "      <td>2014-04-02 15:55:00</td>\n",
       "      <td>4</td>\n",
       "      <td>2014</td>\n",
       "      <td>2014-04</td>\n",
       "      <td>Wednesday</td>\n",
       "      <td>15</td>\n",
       "      <td>1.0</td>\n",
       "      <td>4 days 23:17:00.000000000</td>\n",
       "      <td>4.970139</td>\n",
       "    </tr>\n",
       "    <tr>\n",
       "      <th>4</th>\n",
       "      <td>16 years</td>\n",
       "      <td>A134067</td>\n",
       "      <td>1997-10-16 00:00:00</td>\n",
       "      <td>NaN</td>\n",
       "      <td>Return to Owner</td>\n",
       "      <td>Neutered Male</td>\n",
       "      <td>5840</td>\n",
       "      <td>16.0</td>\n",
       "      <td>(15.0, 17.5]</td>\n",
       "      <td>2013-11-16 11:54:00</td>\n",
       "      <td>...</td>\n",
       "      <td>(15.0, 17.5]</td>\n",
       "      <td>2013-11-16 09:02:00</td>\n",
       "      <td>11</td>\n",
       "      <td>2013</td>\n",
       "      <td>2013-11</td>\n",
       "      <td>Saturday</td>\n",
       "      <td>9</td>\n",
       "      <td>1.0</td>\n",
       "      <td>0 days 02:52:00.000000000</td>\n",
       "      <td>0.119444</td>\n",
       "    </tr>\n",
       "  </tbody>\n",
       "</table>\n",
       "<p>5 rows × 41 columns</p>\n",
       "</div>"
      ],
      "text/plain": [
       "  age_upon_outcome animal_id_outcome        date_of_birth outcome_subtype  \\\n",
       "0         10 years           A006100  2007-07-09 00:00:00             NaN   \n",
       "1          7 years           A006100  2007-07-09 00:00:00             NaN   \n",
       "2          6 years           A006100  2007-07-09 00:00:00             NaN   \n",
       "3         10 years           A047759  2004-04-02 00:00:00         Partner   \n",
       "4         16 years           A134067  1997-10-16 00:00:00             NaN   \n",
       "\n",
       "      outcome_type sex_upon_outcome  age_upon_outcome_(days)  \\\n",
       "0  Return to Owner    Neutered Male                     3650   \n",
       "1  Return to Owner    Neutered Male                     2555   \n",
       "2  Return to Owner    Neutered Male                     2190   \n",
       "3         Transfer    Neutered Male                     3650   \n",
       "4  Return to Owner    Neutered Male                     5840   \n",
       "\n",
       "   age_upon_outcome_(years) age_upon_outcome_age_group     outcome_datetime  \\\n",
       "0                      10.0                (7.5, 10.0]  2017-12-07 14:07:00   \n",
       "1                       7.0                 (5.0, 7.5]  2014-12-20 16:35:00   \n",
       "2                       6.0                 (5.0, 7.5]  2014-03-08 17:10:00   \n",
       "3                      10.0                (7.5, 10.0]  2014-04-07 15:12:00   \n",
       "4                      16.0               (15.0, 17.5]  2013-11-16 11:54:00   \n",
       "\n",
       "   ...  age_upon_intake_age_group      intake_datetime intake_month  \\\n",
       "0  ...                (7.5, 10.0]  2017-12-07 00:00:00           12   \n",
       "1  ...                 (5.0, 7.5]  2014-12-19 10:21:00           12   \n",
       "2  ...                 (5.0, 7.5]  2014-03-07 14:26:00            3   \n",
       "3  ...                (7.5, 10.0]  2014-04-02 15:55:00            4   \n",
       "4  ...               (15.0, 17.5]  2013-11-16 09:02:00           11   \n",
       "\n",
       "  intake_year  intake_monthyear  intake_weekday  intake_hour  intake_number  \\\n",
       "0        2017           2017-12        Thursday           14            1.0   \n",
       "1        2014           2014-12          Friday           10            2.0   \n",
       "2        2014           2014-03          Friday           14            3.0   \n",
       "3        2014           2014-04       Wednesday           15            1.0   \n",
       "4        2013           2013-11        Saturday            9            1.0   \n",
       "\n",
       "             time_in_shelter time_in_shelter_days  \n",
       "0  0 days 14:07:00.000000000             0.588194  \n",
       "1  1 days 06:14:00.000000000             1.259722  \n",
       "2  1 days 02:44:00.000000000             1.113889  \n",
       "3  4 days 23:17:00.000000000             4.970139  \n",
       "4  0 days 02:52:00.000000000             0.119444  \n",
       "\n",
       "[5 rows x 41 columns]"
      ]
     },
     "execution_count": 3,
     "metadata": {},
     "output_type": "execute_result"
    }
   ],
   "source": [
    "shelter_outcomes = 'aac_intakes_outcomes.csv'\n",
    "\n",
    "df = pd.read_csv(shelter_outcomes)\n",
    "print(\"Shape:\", df.shape)\n",
    "df.head()"
   ]
  },
  {
   "cell_type": "markdown",
   "metadata": {},
   "source": [
    "Cool let's see what features we have left."
   ]
  },
  {
   "cell_type": "code",
   "execution_count": 4,
   "metadata": {
    "scrolled": true
   },
   "outputs": [
    {
     "name": "stdout",
     "output_type": "stream",
     "text": [
      "age_upon_outcome\n",
      "animal_id_outcome\n",
      "date_of_birth\n",
      "outcome_subtype\n",
      "outcome_type\n",
      "sex_upon_outcome\n",
      "age_upon_outcome_(days)\n",
      "age_upon_outcome_(years)\n",
      "age_upon_outcome_age_group\n",
      "outcome_datetime\n",
      "outcome_month\n",
      "outcome_year\n",
      "outcome_monthyear\n",
      "outcome_weekday\n",
      "outcome_hour\n",
      "outcome_number\n",
      "dob_year\n",
      "dob_month\n",
      "dob_monthyear\n",
      "age_upon_intake\n",
      "animal_id_intake\n",
      "animal_type\n",
      "breed\n",
      "color\n",
      "found_location\n",
      "intake_condition\n",
      "intake_type\n",
      "sex_upon_intake\n",
      "count\n",
      "age_upon_intake_(days)\n",
      "age_upon_intake_(years)\n",
      "age_upon_intake_age_group\n",
      "intake_datetime\n",
      "intake_month\n",
      "intake_year\n",
      "intake_monthyear\n",
      "intake_weekday\n",
      "intake_hour\n",
      "intake_number\n",
      "time_in_shelter\n",
      "time_in_shelter_days\n"
     ]
    }
   ],
   "source": [
    "for column in df.columns:\n",
    "    print(column)"
   ]
  },
  {
   "cell_type": "markdown",
   "metadata": {},
   "source": [
    "Now that we've taken a quick look at what the data looks like, let's trim it down a lil' bit, because not all of these are going to be necessary to help predict things."
   ]
  },
  {
   "cell_type": "code",
   "execution_count": 5,
   "metadata": {
    "scrolled": true
   },
   "outputs": [
    {
     "data": {
      "text/plain": [
       "outcome_type                object\n",
       "sex_upon_outcome            object\n",
       "age_upon_outcome_(days)      int64\n",
       "outcome_month                int64\n",
       "outcome_monthyear           object\n",
       "outcome_weekday             object\n",
       "outcome_hour                 int64\n",
       "animal_type                 object\n",
       "breed                       object\n",
       "color                       object\n",
       "found_location              object\n",
       "intake_condition            object\n",
       "intake_type                 object\n",
       "sex_upon_intake             object\n",
       "time_in_shelter_days       float64\n",
       "dtype: object"
      ]
     },
     "execution_count": 5,
     "metadata": {},
     "output_type": "execute_result"
    }
   ],
   "source": [
    "try:\n",
    "    df.drop(columns=['age_upon_outcome', 'animal_id_outcome', 'date_of_birth', 'outcome_subtype',\\\n",
    "                     'age_upon_outcome_(years)', 'age_upon_outcome_age_group', 'outcome_datetime',\\\n",
    "                     'outcome_year', 'outcome_number', 'dob_year', 'dob_month', 'dob_monthyear',\\\n",
    "                     'age_upon_intake', 'count', 'intake_datetime', 'intake_month', 'intake_year', \\\n",
    "                     'intake_monthyear', 'intake_weekday', 'intake_hour', 'intake_number',\\\n",
    "                     'time_in_shelter', 'age_upon_intake_(days)', 'age_upon_intake_(years)',\\\n",
    "                     'age_upon_intake_age_group','animal_id_intake'], inplace=True)\n",
    "except KeyError:\n",
    "    print(\"Columns already dropped, are you attempting to bamboozle me?\")\n",
    "\n",
    "df.dtypes"
   ]
  },
  {
   "cell_type": "markdown",
   "metadata": {},
   "source": [
    "This feels like a good amount of features to train our model on. Next, let's do a little preprocessing on our data to make it trainable. \n",
    "\n",
    "First, we'll encode our categorical variables to let the model understand them, and drop empty values."
   ]
  },
  {
   "cell_type": "code",
   "execution_count": 6,
   "metadata": {},
   "outputs": [
    {
     "name": "stdout",
     "output_type": "stream",
     "text": [
      "Fitting: sex_upon_outcome\n",
      "Fitting: outcome_weekday\n",
      "Fitting: animal_type\n",
      "Fitting: breed\n",
      "Fitting: color\n",
      "Fitting: found_location\n",
      "Fitting: intake_condition\n",
      "Fitting: sex_upon_intake\n"
     ]
    }
   ],
   "source": [
    "from sklearn.preprocessing import LabelEncoder\n",
    "\n",
    "# highlighting categorical features\n",
    "labelFeatures = ['sex_upon_outcome', 'outcome_weekday', 'animal_type', \\\n",
    "                 'breed', 'color', 'found_location', 'intake_condition', 'sex_upon_intake']\n",
    "\n",
    "# dropping empty values\n",
    "df.dropna(inplace = True, subset=['outcome_type', 'sex_upon_outcome', 'outcome_weekday', 'animal_type', \\\n",
    "                 'breed', 'color', 'found_location', 'intake_condition', 'sex_upon_intake'])\n",
    "\n",
    "le = LabelEncoder()\n",
    "\n",
    "# fitting categorical features\n",
    "for f in labelFeatures:\n",
    "    print(\"Fitting:\", f)\n",
    "    le.fit(df[f])\n",
    "    df[f] = le.transform(df[f])\n",
    "    \n",
    "# fitting y value\n",
    "le.fit(df.outcome_type)\n",
    "df['outcome_type'] = le.transform(df.outcome_type)\n",
    "\n",
    "# throwing the numeric values onto labelFeatures so we can add it all into X and Y\n",
    "labelFeatures.append('age_upon_outcome_(days)')\n",
    "labelFeatures.append('outcome_month')\n",
    "labelFeatures.append('outcome_hour')\n",
    "labelFeatures.append('time_in_shelter_days')\n",
    "\n",
    "# and now let there be X and Y\n",
    "X = df[labelFeatures]\n",
    "y = df.outcome_type\n",
    "\n",
    "# thank Zeus there's only train_test_split, and that there's not also a test_train_split, \n",
    "# I would've been trying to figure out that one for forever\n",
    "train_X, val_X, train_y, val_y = train_test_split(X, y, random_state=1, test_size=0.3, stratify=y)"
   ]
  },
  {
   "cell_type": "code",
   "execution_count": 7,
   "metadata": {},
   "outputs": [
    {
     "name": "stderr",
     "output_type": "stream",
     "text": [
      "/usr/lib/python3.7/site-packages/sklearn/ensemble/forest.py:245: FutureWarning: The default value of n_estimators will change from 10 in version 0.20 to 100 in 0.22.\n",
      "  \"10 in version 0.20 to 100 in 0.22.\", FutureWarning)\n"
     ]
    },
    {
     "name": "stdout",
     "output_type": "stream",
     "text": [
      "Validation MAE for Random Forest Model: 1.2766224528222938\n"
     ]
    }
   ],
   "source": [
    "# we set random_state=1 so Zeus may arrange the data juuuuuust right\n",
    "randoForest = RandomForestClassifier(random_state=1)\n",
    "\n",
    "# now let's fit the model and see what happens\n",
    "randoForest.fit(train_X, train_y)\n",
    "\n",
    "predictions = randoForest.predict(val_X)\n",
    "print(\"Validation MAE for Random Forest Model: {}\".format(mean_absolute_error(predictions, val_y)))"
   ]
  },
  {
   "cell_type": "code",
   "execution_count": 8,
   "metadata": {},
   "outputs": [
    {
     "name": "stdout",
     "output_type": "stream",
     "text": [
      "              precision    recall  f1-score   support\n",
      "\n",
      "           0       0.78      0.89      0.83     10078\n",
      "           1       0.55      0.10      0.17       207\n",
      "           2       0.75      0.33      0.46        91\n",
      "           3       0.82      0.69      0.75      1873\n",
      "           4       0.00      0.00      0.00        14\n",
      "           5       0.00      0.00      0.00         5\n",
      "           6       0.75      0.71      0.73      4437\n",
      "           7       0.00      0.00      0.00        54\n",
      "           8       0.78      0.72      0.75      7140\n",
      "\n",
      "    accuracy                           0.78     23899\n",
      "   macro avg       0.49      0.38      0.41     23899\n",
      "weighted avg       0.77      0.78      0.77     23899\n",
      "\n"
     ]
    },
    {
     "name": "stderr",
     "output_type": "stream",
     "text": [
      "/usr/lib/python3.7/site-packages/sklearn/metrics/classification.py:1437: UndefinedMetricWarning: Precision and F-score are ill-defined and being set to 0.0 in labels with no predicted samples.\n",
      "  'precision', 'predicted', average, warn_for)\n"
     ]
    }
   ],
   "source": [
    "from sklearn.metrics import classification_report\n",
    "\n",
    "print(classification_report(val_y, predictions))"
   ]
  },
  {
   "cell_type": "markdown",
   "metadata": {},
   "source": [
    "Alright, our first prediction!\n",
    "\n",
    "Our accuracy is 78%, not bad at all!"
   ]
  },
  {
   "cell_type": "code",
   "execution_count": 9,
   "metadata": {},
   "outputs": [
    {
     "name": "stdout",
     "output_type": "stream",
     "text": [
      "i= 0 \tn_estimators:  5 \tAccuracy: 0.6814929494957948\n",
      "i= 1 \tn_estimators:  10 \tAccuracy: 0.766852169546843\n",
      "i= 2 \tn_estimators:  15 \tAccuracy: 0.7782333988869827\n",
      "i= 3 \tn_estimators:  20 \tAccuracy: 0.785555880999205\n",
      "i= 4 \tn_estimators:  25 \tAccuracy: 0.7870203774216494\n",
      "i= 5 \tn_estimators:  30 \tAccuracy: 0.7864764216075987\n",
      "i= 6 \tn_estimators:  35 \tAccuracy: 0.7873551194610653\n",
      "i= 7 \tn_estimators:  40 \tAccuracy: 0.7901585840411732\n",
      "i= 8 \tn_estimators:  45 \tAccuracy: 0.7890706724130717\n",
      "i= 9 \tn_estimators:  50 \tAccuracy: 0.7901167412862463\n",
      "i= 10 \tn_estimators:  55 \tAccuracy: 0.7904514833256622\n",
      "i= 11 \tn_estimators:  60 \tAccuracy: 0.7911628101594209\n",
      "i= 12 \tn_estimators:  65 \tAccuracy: 0.790953596384786\n",
      "i= 13 \tn_estimators:  70 \tAccuracy: 0.7917067659734717\n",
      "i= 14 \tn_estimators:  75 \tAccuracy: 0.7919159797481066\n",
      "i= 15 \tn_estimators:  80 \tAccuracy: 0.7919996652579606\n",
      "i= 16 \tn_estimators:  85 \tAccuracy: 0.7930038913762082\n",
      "i= 17 \tn_estimators:  90 \tAccuracy: 0.7932131051508431\n",
      "i= 18 \tn_estimators:  95 \tAccuracy: 0.7940499602493828\n",
      "i= 19 \tn_estimators:  100 \tAccuracy: 0.7931294196409892\n"
     ]
    }
   ],
   "source": [
    "from sklearn.metrics import accuracy_score\n",
    "\n",
    "# a list for our forests\n",
    "rfcList = []\n",
    "predictionList = []\n",
    "\n",
    "# making, like, a lot of forests\n",
    "# update: my computer only has memory to do about 50 of these before it just absolutely freezes\n",
    "for i in range(1, 101, 5):\n",
    "    rfcList.append(RandomForestClassifier(random_state=1, n_estimators=i))\n",
    "\n",
    "i=0\n",
    "# now we gon train a lot of forests\n",
    "for forest in rfcList:\n",
    "    forest.fit(train_X, train_y)\n",
    "    predictionList.append(forest.predict(val_X))\n",
    "    print(\"i=\", i, \"\\tn_estimators: \", (i+1)*5, \"\\tAccuracy: \", end='')\n",
    "    #print(mean_absolute_error(predictionList[i], val_y))\n",
    "    print(accuracy_score(val_y, predictionList[i]))\n",
    "    i+=1"
   ]
  },
  {
   "cell_type": "markdown",
   "metadata": {},
   "source": [
    "Interesting. The accuracy improves steadily, up to a point of around 79%%, where after that, adding more n_estimators starts providing diminishing returns, if any benefit at all when compared to the previous iteration. Having around 50 seems to be the best blend of performance and accuracy in this scenario.\n",
    "\n",
    "Let's see if we can gain any insights on how this model predicts it's results, and look at feature importances (and maybe also a classification report for n_estimators = 50)"
   ]
  },
  {
   "cell_type": "code",
   "execution_count": 12,
   "metadata": {},
   "outputs": [
    {
     "name": "stdout",
     "output_type": "stream",
     "text": [
      "              precision    recall  f1-score   support\n",
      "\n",
      "           0       0.79      0.90      0.84     10078\n",
      "           1       0.85      0.08      0.15       207\n",
      "           2       0.85      0.32      0.46        91\n",
      "           3       0.86      0.69      0.77      1873\n",
      "           4       0.00      0.00      0.00        14\n",
      "           5       0.00      0.00      0.00         5\n",
      "           6       0.77      0.73      0.75      4437\n",
      "           7       0.00      0.00      0.00        54\n",
      "           8       0.78      0.74      0.76      7140\n",
      "\n",
      "    accuracy                           0.79     23899\n",
      "   macro avg       0.55      0.38      0.41     23899\n",
      "weighted avg       0.79      0.79      0.78     23899\n",
      "\n",
      "sex_upon_outcome importance:\n",
      "\t 0.10709370637109218\n",
      "outcome_weekday importance:\n",
      "\t 0.04330829056402263\n",
      "animal_type importance:\n",
      "\t 0.056957546317882184\n",
      "breed importance:\n",
      "\t 0.0668402458619814\n",
      "color importance:\n",
      "\t 0.06114152229370092\n",
      "found_location importance:\n",
      "\t 0.08950647326773599\n",
      "intake_condition importance:\n",
      "\t 0.025936435399637164\n",
      "sex_upon_intake importance:\n",
      "\t 0.05359403524896739\n",
      "age_upon_outcome_(days) importance:\n",
      "\t 0.11331862513101362\n",
      "outcome_month importance:\n",
      "\t 0.05147265842030484\n",
      "outcome_hour importance:\n",
      "\t 0.09099483255391069\n"
     ]
    }
   ],
   "source": [
    "print(classification_report(val_y, predictionList[9]))\n",
    "\n",
    "for i in range(len(labelFeatures)-1):\n",
    "    print(labelFeatures[i],\"importance:\\n\\t\", rfcList[9].feature_importances_[i])"
   ]
  },
  {
   "cell_type": "markdown",
   "metadata": {},
   "source": [
    "The most important features seem to be **age_upon_outcome**, **sex_upon_outcome**, "
   ]
  }
 ],
 "metadata": {
  "kernelspec": {
   "display_name": "Python 3",
   "language": "python",
   "name": "python3"
  },
  "language_info": {
   "codemirror_mode": {
    "name": "ipython",
    "version": 3
   },
   "file_extension": ".py",
   "mimetype": "text/x-python",
   "name": "python",
   "nbconvert_exporter": "python",
   "pygments_lexer": "ipython3",
   "version": "3.7.4"
  }
 },
 "nbformat": 4,
 "nbformat_minor": 2
}
